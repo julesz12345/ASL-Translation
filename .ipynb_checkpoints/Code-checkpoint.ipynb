{
 "cells": [
  {
   "cell_type": "markdown",
   "id": "18805d43",
   "metadata": {},
   "source": [
    "### Importing Packages"
   ]
  },
  {
   "cell_type": "code",
   "execution_count": 10,
   "id": "242a1a63",
   "metadata": {},
   "outputs": [
    {
     "name": "stdout",
     "output_type": "stream",
     "text": [
      "Collecting moviepy\n",
      "  Downloading moviepy-1.0.3.tar.gz (388 kB)\n",
      "Collecting decorator<5.0,>=4.0.2\n",
      "  Downloading decorator-4.4.2-py2.py3-none-any.whl (9.2 kB)\n",
      "Requirement already satisfied: tqdm<5.0,>=4.11.2 in c:\\users\\jules\\anaconda3\\lib\\site-packages (from moviepy) (4.62.3)\n",
      "Requirement already satisfied: requests<3.0,>=2.8.1 in c:\\users\\jules\\anaconda3\\lib\\site-packages (from moviepy) (2.26.0)\n",
      "Collecting proglog<=1.0.0\n",
      "  Downloading proglog-0.1.9.tar.gz (10 kB)\n",
      "Requirement already satisfied: numpy>=1.17.3 in c:\\users\\jules\\anaconda3\\lib\\site-packages (from moviepy) (1.20.3)\n",
      "Requirement already satisfied: imageio<3.0,>=2.5 in c:\\users\\jules\\anaconda3\\lib\\site-packages (from moviepy) (2.9.0)\n",
      "Collecting imageio_ffmpeg>=0.2.0\n",
      "  Downloading imageio_ffmpeg-0.4.5-py3-none-win_amd64.whl (22.6 MB)\n",
      "Requirement already satisfied: pillow in c:\\users\\jules\\anaconda3\\lib\\site-packages (from imageio<3.0,>=2.5->moviepy) (8.4.0)\n",
      "Requirement already satisfied: certifi>=2017.4.17 in c:\\users\\jules\\anaconda3\\lib\\site-packages (from requests<3.0,>=2.8.1->moviepy) (2021.10.8)\n",
      "Requirement already satisfied: urllib3<1.27,>=1.21.1 in c:\\users\\jules\\anaconda3\\lib\\site-packages (from requests<3.0,>=2.8.1->moviepy) (1.26.7)\n",
      "Requirement already satisfied: charset-normalizer~=2.0.0 in c:\\users\\jules\\anaconda3\\lib\\site-packages (from requests<3.0,>=2.8.1->moviepy) (2.0.4)\n",
      "Requirement already satisfied: idna<4,>=2.5 in c:\\users\\jules\\anaconda3\\lib\\site-packages (from requests<3.0,>=2.8.1->moviepy) (3.2)\n",
      "Requirement already satisfied: colorama in c:\\users\\jules\\anaconda3\\lib\\site-packages (from tqdm<5.0,>=4.11.2->moviepy) (0.4.4)\n",
      "Building wheels for collected packages: moviepy, proglog\n",
      "  Building wheel for moviepy (setup.py): started\n",
      "  Building wheel for moviepy (setup.py): finished with status 'done'\n",
      "  Created wheel for moviepy: filename=moviepy-1.0.3-py3-none-any.whl size=110744 sha256=0ffaef7f3bfb2db2b0d52c619ddf215939fc601c09ec31cf38d7c4c58de91a8f\n",
      "  Stored in directory: c:\\users\\jules\\appdata\\local\\pip\\cache\\wheels\\29\\15\\e4\\4f790bec6acd51a00b67e8ee1394f0bc6e0135c315f8ff399a\n",
      "  Building wheel for proglog (setup.py): started\n",
      "  Building wheel for proglog (setup.py): finished with status 'done'\n",
      "  Created wheel for proglog: filename=proglog-0.1.9-py3-none-any.whl size=6157 sha256=13eb94bab1eb8cfa16567e38d27135db895988889059173544da991845d07ee3\n",
      "  Stored in directory: c:\\users\\jules\\appdata\\local\\pip\\cache\\wheels\\3d\\49\\90\\711d235502d9604147607f29cacf99278880246cae65313d95\n",
      "Successfully built moviepy proglog\n",
      "Installing collected packages: proglog, imageio-ffmpeg, decorator, moviepy\n",
      "  Attempting uninstall: decorator\n",
      "    Found existing installation: decorator 5.1.0\n",
      "    Uninstalling decorator-5.1.0:\n",
      "      Successfully uninstalled decorator-5.1.0\n",
      "Successfully installed decorator-4.4.2 imageio-ffmpeg-0.4.5 moviepy-1.0.3 proglog-0.1.9\n",
      "Note: you may need to restart the kernel to use updated packages.\n"
     ]
    }
   ],
   "source": [
    "pip install moviepy"
   ]
  },
  {
   "cell_type": "code",
   "execution_count": 11,
   "id": "53a9c7bf",
   "metadata": {},
   "outputs": [],
   "source": [
    "import os\n",
    "from PIL import Image\n",
    "import numpy as np\n",
    "import pandas as pd\n",
    "import matplotlib.pyplot as plt\n",
    "import seaborn as sns\n",
    "import requests\n",
    "import io\n",
    "\n",
    "from sklearn.model_selection import train_test_split\n",
    "from sklearn.preprocessing import MinMaxScaler\n",
    "\n",
    "import cv2\n",
    "import moviepy.editor as mp\n",
    "\n",
    "import tensorflow as tf\n",
    "from tensorflow.keras.models import Sequential\n",
    "from tensorflow.keras.layers import Dense, Conv2D, MaxPooling2D, BatchNormalization, Dropout, Flatten, LeakyReLU, GlobalAvgPool2D\n",
    "from tensorflow.keras.utils import to_categorical\n",
    "from tensorflow.keras import optimizers\n",
    "from keras.callbacks import ModelCheckpoint, EarlyStopping\n",
    "\n",
    "from sklearn.metrics import classification_report\n",
    "from sklearn.metrics import confusion_matrix\n",
    "\n",
    "import warnings\n",
    "warnings.filterwarnings('ignore')\n",
    "\n",
    "import warnings\n",
    "warnings.filterwarnings('ignore')"
   ]
  },
  {
   "cell_type": "markdown",
   "id": "5998a7a7",
   "metadata": {},
   "source": [
    "### Importing Data"
   ]
  },
  {
   "cell_type": "code",
   "execution_count": 2,
   "id": "e71dced2",
   "metadata": {},
   "outputs": [],
   "source": [
    "#Storing the path of the extracted \"train\" folder \n",
    "train_dir = '/Dataset/Train'\n",
    "\n",
    "#Size of image so that each image has the same size\n",
    "SIZE = 64\n",
    "\n",
    "#Empty list to store the training images after they are converted to NumPy arrays\n",
    "train_images = []\n",
    "\n",
    "#Empty list to store the training labels (0 - uninfected, 1 - parasitized)\n",
    "train_labels = []"
   ]
  },
  {
   "cell_type": "code",
   "execution_count": 20,
   "id": "61274ab5",
   "metadata": {},
   "outputs": [],
   "source": [
    "#We will run the same code for \"parasitized\" as well as \"uninfected\" folders within the \"train\" folder\n",
    "for folder_name in ['/Happy/', '/Hello/', '/No/', '/Sad/', '/Yes/']:\n",
    "    \n",
    "    #Path of the folder\n",
    "    images_path = os.listdir(\"C:/Users/Jules/Documents/ASL-Translation\" + train_dir + folder_name)\n",
    "\n",
    "    for i, image_name in enumerate(images_path):\n",
    "        try:\n",
    "            #Opening each image using the path of that image\n",
    "            vid = mp.VideoFileClip(\"C:/Users/Jules/Documents/Malaria-Detection\" + train_dir + folder_name + image_name)\n",
    "\n",
    "            #Resizing each image to (224,224)\n",
    "            vid = clip.resize(height=360)\n",
    "            vid\n",
    "\n",
    "            #Converting images to arrays and appending that array to the empty list defined above\n",
    "            train_images.append(np.array(vid))\n",
    "\n",
    "            #Creating labels for parasitized and uninfected images\n",
    "            if folder_name=='/Happy/':\n",
    "                train_labels.append(\"Happy\")\n",
    "            elif folder_name=='/Hello/':\n",
    "                train_labels.append(\"Hello\")\n",
    "            elif folder_name=='/No/':\n",
    "                train_labels.append(\"No\")\n",
    "            elif folder_name=='/Sad/':\n",
    "                train_labels.append(\"Sad\")\n",
    "            else:\n",
    "                train_labels.append(\"Yes\")\n",
    "        except Exception:\n",
    "            pass       \n",
    "\n",
    "#Converting lists to arrays\n",
    "train_images = np.array(train_images)\n",
    "train_labels = np.array(train_labels)"
   ]
  },
  {
   "cell_type": "code",
   "execution_count": 21,
   "id": "af2c152e",
   "metadata": {},
   "outputs": [
    {
     "ename": "OSError",
     "evalue": "MoviePy error: the file C:/Users/Jules/Documents/Malaria-Detection/Dataset/Train/Yes/video-1644693928.mp4 could not be found!\nPlease check that you entered the correct path.",
     "output_type": "error",
     "traceback": [
      "\u001b[1;31m---------------------------------------------------------------------------\u001b[0m",
      "\u001b[1;31mOSError\u001b[0m                                   Traceback (most recent call last)",
      "\u001b[1;32m~\\AppData\\Local\\Temp/ipykernel_2348/648344731.py\u001b[0m in \u001b[0;36m<module>\u001b[1;34m\u001b[0m\n\u001b[1;32m----> 1\u001b[1;33m \u001b[0mvid\u001b[0m \u001b[1;33m=\u001b[0m \u001b[0mmp\u001b[0m\u001b[1;33m.\u001b[0m\u001b[0mVideoFileClip\u001b[0m\u001b[1;33m(\u001b[0m\u001b[1;34m\"C:/Users/Jules/Documents/Malaria-Detection\"\u001b[0m \u001b[1;33m+\u001b[0m \u001b[0mtrain_dir\u001b[0m \u001b[1;33m+\u001b[0m \u001b[0mfolder_name\u001b[0m \u001b[1;33m+\u001b[0m \u001b[0mimage_name\u001b[0m\u001b[1;33m)\u001b[0m\u001b[1;33m\u001b[0m\u001b[1;33m\u001b[0m\u001b[0m\n\u001b[0m\u001b[0;32m      2\u001b[0m \u001b[0mvid\u001b[0m\u001b[1;33m\u001b[0m\u001b[1;33m\u001b[0m\u001b[0m\n",
      "\u001b[1;32m~\\anaconda3\\lib\\site-packages\\moviepy\\video\\io\\VideoFileClip.py\u001b[0m in \u001b[0;36m__init__\u001b[1;34m(self, filename, has_mask, audio, audio_buffersize, target_resolution, resize_algorithm, audio_fps, audio_nbytes, verbose, fps_source)\u001b[0m\n\u001b[0;32m     86\u001b[0m         \u001b[1;31m# Make a reader\u001b[0m\u001b[1;33m\u001b[0m\u001b[1;33m\u001b[0m\u001b[0m\n\u001b[0;32m     87\u001b[0m         \u001b[0mpix_fmt\u001b[0m \u001b[1;33m=\u001b[0m \u001b[1;34m\"rgba\"\u001b[0m \u001b[1;32mif\u001b[0m \u001b[0mhas_mask\u001b[0m \u001b[1;32melse\u001b[0m \u001b[1;34m\"rgb24\"\u001b[0m\u001b[1;33m\u001b[0m\u001b[1;33m\u001b[0m\u001b[0m\n\u001b[1;32m---> 88\u001b[1;33m         self.reader = FFMPEG_VideoReader(filename, pix_fmt=pix_fmt,\n\u001b[0m\u001b[0;32m     89\u001b[0m                                          \u001b[0mtarget_resolution\u001b[0m\u001b[1;33m=\u001b[0m\u001b[0mtarget_resolution\u001b[0m\u001b[1;33m,\u001b[0m\u001b[1;33m\u001b[0m\u001b[1;33m\u001b[0m\u001b[0m\n\u001b[0;32m     90\u001b[0m                                          \u001b[0mresize_algo\u001b[0m\u001b[1;33m=\u001b[0m\u001b[0mresize_algorithm\u001b[0m\u001b[1;33m,\u001b[0m\u001b[1;33m\u001b[0m\u001b[1;33m\u001b[0m\u001b[0m\n",
      "\u001b[1;32m~\\anaconda3\\lib\\site-packages\\moviepy\\video\\io\\ffmpeg_reader.py\u001b[0m in \u001b[0;36m__init__\u001b[1;34m(self, filename, print_infos, bufsize, pix_fmt, check_duration, target_resolution, resize_algo, fps_source)\u001b[0m\n\u001b[0;32m     33\u001b[0m         \u001b[0mself\u001b[0m\u001b[1;33m.\u001b[0m\u001b[0mfilename\u001b[0m \u001b[1;33m=\u001b[0m \u001b[0mfilename\u001b[0m\u001b[1;33m\u001b[0m\u001b[1;33m\u001b[0m\u001b[0m\n\u001b[0;32m     34\u001b[0m         \u001b[0mself\u001b[0m\u001b[1;33m.\u001b[0m\u001b[0mproc\u001b[0m \u001b[1;33m=\u001b[0m \u001b[1;32mNone\u001b[0m\u001b[1;33m\u001b[0m\u001b[1;33m\u001b[0m\u001b[0m\n\u001b[1;32m---> 35\u001b[1;33m         infos = ffmpeg_parse_infos(filename, print_infos, check_duration,\n\u001b[0m\u001b[0;32m     36\u001b[0m                                    fps_source)\n\u001b[0;32m     37\u001b[0m         \u001b[0mself\u001b[0m\u001b[1;33m.\u001b[0m\u001b[0mfps\u001b[0m \u001b[1;33m=\u001b[0m \u001b[0minfos\u001b[0m\u001b[1;33m[\u001b[0m\u001b[1;34m'video_fps'\u001b[0m\u001b[1;33m]\u001b[0m\u001b[1;33m\u001b[0m\u001b[1;33m\u001b[0m\u001b[0m\n",
      "\u001b[1;32m~\\anaconda3\\lib\\site-packages\\moviepy\\video\\io\\ffmpeg_reader.py\u001b[0m in \u001b[0;36mffmpeg_parse_infos\u001b[1;34m(filename, print_infos, check_duration, fps_source)\u001b[0m\n\u001b[0;32m    268\u001b[0m     \u001b[0mlines\u001b[0m \u001b[1;33m=\u001b[0m \u001b[0minfos\u001b[0m\u001b[1;33m.\u001b[0m\u001b[0msplitlines\u001b[0m\u001b[1;33m(\u001b[0m\u001b[1;33m)\u001b[0m\u001b[1;33m\u001b[0m\u001b[1;33m\u001b[0m\u001b[0m\n\u001b[0;32m    269\u001b[0m     \u001b[1;32mif\u001b[0m \u001b[1;34m\"No such file or directory\"\u001b[0m \u001b[1;32min\u001b[0m \u001b[0mlines\u001b[0m\u001b[1;33m[\u001b[0m\u001b[1;33m-\u001b[0m\u001b[1;36m1\u001b[0m\u001b[1;33m]\u001b[0m\u001b[1;33m:\u001b[0m\u001b[1;33m\u001b[0m\u001b[1;33m\u001b[0m\u001b[0m\n\u001b[1;32m--> 270\u001b[1;33m         raise IOError((\"MoviePy error: the file %s could not be found!\\n\"\n\u001b[0m\u001b[0;32m    271\u001b[0m                       \u001b[1;34m\"Please check that you entered the correct \"\u001b[0m\u001b[1;33m\u001b[0m\u001b[1;33m\u001b[0m\u001b[0m\n\u001b[0;32m    272\u001b[0m                       \"path.\")%filename)\n",
      "\u001b[1;31mOSError\u001b[0m: MoviePy error: the file C:/Users/Jules/Documents/Malaria-Detection/Dataset/Train/Yes/video-1644693928.mp4 could not be found!\nPlease check that you entered the correct path."
     ]
    }
   ],
   "source": [
    "vid = mp.VideoFileClip(\"C:/Users/Jules/Documents/Malaria-Detection\" + train_dir + folder_name + image_name)\n",
    "vid"
   ]
  },
  {
   "cell_type": "code",
   "execution_count": null,
   "id": "1a9b001c",
   "metadata": {},
   "outputs": [],
   "source": [
    "#Storing the path of the extracted \"test\" folder \n",
    "test_dir = '/cell_images/test'\n",
    "\n",
    "#Size of image so that each image has the same size (it must be same as the train image size)\n",
    "SIZE = 64\n",
    "\n",
    "#Empty list to store the testing images after they are converted to NumPy arrays\n",
    "test_images = []\n",
    "\n",
    "#Empty list to store the testing labels (0 - uninfected, 1 - parasitized)\n",
    "test_labels = []"
   ]
  },
  {
   "cell_type": "code",
   "execution_count": null,
   "id": "0c70862d",
   "metadata": {},
   "outputs": [],
   "source": [
    "#We will run the same code for \"parasitized\" as well as \"uninfected\" folders within the \"test\" folder\n",
    "for folder_name in ['/parasitized/', '/uninfected/']:\n",
    "    \n",
    "    #Path of the folder\n",
    "    images_path = os.listdir(\"C:/Users/Jules/Documents/Malaria-Detection\" + test_dir + folder_name)\n",
    "\n",
    "    for i, image_name in enumerate(images_path):\n",
    "        try:\n",
    "            #Opening each image using the path of that image\n",
    "            image = Image.open(\"C:/Users/Jules/Documents/Malaria-Detection\" + test_dir + folder_name + image_name)\n",
    "            \n",
    "            #Resizing each image to (128,128)\n",
    "            image = image.resize((SIZE, SIZE))\n",
    "            \n",
    "            #Converting images to arrays and appending that array to the empty list defined above\n",
    "            test_images.append(np.array(image))\n",
    "            \n",
    "            #Creating labels for parasitized and uninfected images\n",
    "            if folder_name=='/parasitized/':\n",
    "                test_labels.append(1)\n",
    "            else:\n",
    "                test_labels.append(0)\n",
    "        except Exception:\n",
    "            pass       \n",
    "\n",
    "#Converting lists to arrays\n",
    "test_images = np.array(test_images)\n",
    "test_labels = np.array(test_labels)"
   ]
  }
 ],
 "metadata": {
  "kernelspec": {
   "display_name": "Python 3 (ipykernel)",
   "language": "python",
   "name": "python3"
  },
  "language_info": {
   "codemirror_mode": {
    "name": "ipython",
    "version": 3
   },
   "file_extension": ".py",
   "mimetype": "text/x-python",
   "name": "python",
   "nbconvert_exporter": "python",
   "pygments_lexer": "ipython3",
   "version": "3.9.7"
  }
 },
 "nbformat": 4,
 "nbformat_minor": 5
}
